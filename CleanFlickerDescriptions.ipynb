{
  "nbformat": 4,
  "nbformat_minor": 0,
  "metadata": {
    "colab": {
      "name": "CleanFlickerDescriptions.ipynb",
      "provenance": [],
      "collapsed_sections": [],
      "include_colab_link": true
    },
    "kernelspec": {
      "name": "python3",
      "display_name": "Python 3"
    }
  },
  "cells": [
    {
      "cell_type": "markdown",
      "metadata": {
        "id": "view-in-github",
        "colab_type": "text"
      },
      "source": [
        "<a href=\"https://colab.research.google.com/github/smgbx/Image_Captioning/blob/main/CleanFlickerDescriptions.ipynb\" target=\"_parent\"><img src=\"https://colab.research.google.com/assets/colab-badge.svg\" alt=\"Open In Colab\"/></a>"
      ]
    },
    {
      "cell_type": "markdown",
      "metadata": {
        "id": "--SgEqe_4yek"
      },
      "source": [
        "PREPARE TRAINING TEXT\n",
        "\n",
        "Cleans the given text descriptions and saves them to 'descriptions.txt'."
      ]
    },
    {
      "cell_type": "code",
      "metadata": {
        "id": "phtTRHEDQBqf",
        "colab": {
          "base_uri": "https://localhost:8080/"
        },
        "outputId": "d023fc4f-7e40-440c-bf2a-daedae9440e5"
      },
      "source": [
        "from google.colab import drive\n",
        "drive.mount('/content/drive')"
      ],
      "execution_count": null,
      "outputs": [
        {
          "output_type": "stream",
          "text": [
            "Mounted at /content/drive\n"
          ],
          "name": "stdout"
        }
      ]
    },
    {
      "cell_type": "code",
      "metadata": {
        "id": "8Zdpgg6tLiGr"
      },
      "source": [
        "import string\n",
        "from pickle import load"
      ],
      "execution_count": null,
      "outputs": []
    },
    {
      "cell_type": "code",
      "metadata": {
        "id": "BaXIVAo6Sw-P",
        "colab": {
          "base_uri": "https://localhost:8080/"
        },
        "outputId": "277b4647-68a9-469f-d682-f33a05cf26df"
      },
      "source": [
        "def load_doc(filename):\n",
        "  file = open(filename, 'r')\n",
        "  text = file.read()\n",
        "  file.close()\n",
        "  return text\n",
        "\n",
        "# extract individual descriptions for images -> dict, where image_id is key, list of image descriptions is value\n",
        "def load_descriptions(doc):\n",
        "  all_descriptions_dict = dict()\n",
        "  # process lines\n",
        "  for line in doc.split('\\n'):\n",
        "    # split line by space\n",
        "    tokens = line.split()\n",
        "    if len(line) < 2:\n",
        "      continue\n",
        "    # take the first token as the image id, the rest as the description\n",
        "    image_id, image_desc = tokens[0], tokens[1:]\n",
        "    # remove filename, leaving just image id\n",
        "    image_id = image_id.split('.')[0]\n",
        "    # convert description tokens back to string\n",
        "    image_desc = ' '.join(image_desc)\n",
        "    # create the list if needed\n",
        "    if image_id not in all_descriptions_dict:\n",
        "      all_descriptions_dict[image_id] = list()\n",
        "    # store description\n",
        "    all_descriptions_dict[image_id].append(image_desc)\n",
        "  return all_descriptions_dict\n",
        "\n",
        "def clean_descriptions(descriptions):\n",
        "  # Create translation table that will remove punctuation\n",
        "  translation_table = str.maketrans('', '', string.punctuation)\n",
        "  for image_id, desc_list in descriptions.items():\n",
        "    for i in range(len(desc_list)): # for every desc in image desc list\n",
        "      desc = desc_list[i]\n",
        "      # tokenize\n",
        "      desc = desc.split()\n",
        "      # convert to lower case\n",
        "      desc = [word.lower() for word in desc]\n",
        "      # remove punctuation from each token\n",
        "      desc = [w.translate(translation_table) for w in desc]\n",
        "      # remove hanging 's' and 'a'\n",
        "      desc = [word for word in desc if len(word)>1]\n",
        "      # remove tokens with numbers in them\n",
        "      desc = [word for word in desc if word.isalpha()]\n",
        "      # store as a string, replacing current desc\n",
        "      desc_list[i] = ' '.join(desc)\n",
        "\n",
        "# save descriptions to file, one description per line. Each line: image id + ' ' + desc\n",
        "def save_descriptions(descriptions, filename):\n",
        "  lines = list()\n",
        "  for image_id, desc_list in descriptions.items():\n",
        "    for desc in desc_list:\n",
        "      lines.append(image_id + ' ' + desc)\n",
        "    data = '\\n'.join(lines)\n",
        "    file = open(filename, 'w')\n",
        "    file.write(data)\n",
        "    file.close()\n",
        "    \n",
        "filename = '/content/drive/My Drive/ImageCaptioningProject/Flickr8k_text/Flickr8k.token.txt'\n",
        "# load unprocessed descriptions\n",
        "doc = load_doc(filename)\n",
        "# process descriptions\n",
        "descripitions = load_descriptions(doc)\n",
        "print('Images with descriptions: %d' % len(descriptions))\n",
        "# clean descriptions\n",
        "clean_descriptions(descriptions)\n",
        "\n",
        "# save to file\n",
        "save_descriptions(descriptions, 'descriptions.txt')"
      ],
      "execution_count": null,
      "outputs": [
        {
          "output_type": "stream",
          "text": [
            "Loaded: 8092\n",
            "Vocaulary Size: 8763\n"
          ],
          "name": "stdout"
        }
      ]
    }
  ]
}
{
  "nbformat": 4,
  "nbformat_minor": 0,
  "metadata": {
    "colab": {
      "name": "GetFlickerImagesFeatures.ipynb",
      "provenance": [],
      "collapsed_sections": [],
      "include_colab_link": true
    },
    "kernelspec": {
      "name": "python3",
      "display_name": "Python 3"
    }
  },
  "cells": [
    {
      "cell_type": "markdown",
      "metadata": {
        "id": "view-in-github",
        "colab_type": "text"
      },
      "source": [
        "<a href=\"https://colab.research.google.com/github/smgbx/Image_Captioning/blob/main/GetFlickerImagesFeatures.ipynb\" target=\"_parent\"><img src=\"https://colab.research.google.com/assets/colab-badge.svg\" alt=\"Open In Colab\"/></a>"
      ]
    },
    {
      "cell_type": "markdown",
      "metadata": {
        "id": "xit5nMmT5Bbh"
      },
      "source": [
        "GETS FEATURES FROM TRAINING IMAGES.\n",
        "\n",
        "features: dict['image_id'] = numpy array version of image features\n",
        "\n",
        "Saves image features dictionary to 'features.pkl'"
      ]
    },
    {
      "cell_type": "code",
      "metadata": {
        "id": "qD3pyAMTdocW",
        "colab": {
          "base_uri": "https://localhost:8080/"
        },
        "outputId": "47652f6d-c5b5-4432-d970-1116d31260a1"
      },
      "source": [
        "from google.colab import drive\n",
        "drive.mount('/content/drive')"
      ],
      "execution_count": null,
      "outputs": [
        {
          "output_type": "stream",
          "text": [
            "Mounted at /content/drive\n"
          ],
          "name": "stdout"
        }
      ]
    },
    {
      "cell_type": "code",
      "metadata": {
        "id": "Yrr-vbYUorKx"
      },
      "source": [
        "import numpy as np\n",
        "import pickle\n",
        "from os import listdir, getcwd\n",
        "import tensorflow as tf\n",
        "from tensorflow.keras.applications import InceptionV3\n",
        "from keras.preprocessing.image import load_img\n",
        "from keras.preprocessing.image import img_to_array\n",
        "from keras.applications.inception_v3 import preprocess_input\n",
        "from keras.models import Model"
      ],
      "execution_count": null,
      "outputs": []
    },
    {
      "cell_type": "code",
      "metadata": {
        "id": "-qgqBQwsxHEj",
        "colab": {
          "base_uri": "https://localhost:8080/"
        },
        "outputId": "b6698702-9788-40c3-ae15-e5353baaadc9"
      },
      "source": [
        "# Extract training dataset image features.\n",
        "# Optimization to save time, so the model doesn't have to regenerate\n",
        "# unchanging features when we want to test modfifications of our model.\n",
        "\n",
        "def extract_training_image_features(imgs_folder):\n",
        "  # Load CNN model. Because we're not classifying, do not include top layer.\n",
        "  features_model = InceptionV3()\n",
        "  # Omitting unneccessary classification layer (output softmax layer)\n",
        "  features_model = Model(inputs=features_model.inputs, outputs=features_model.layers[-2].output)\n",
        "  all_features_dict = dict()\n",
        "  for name in listdir(imgs_folder):\n",
        "    # load image from folder\n",
        "    filename = imgs_folder + '/' + name\n",
        "    # InceptionV3 expects (299, 299) size images\n",
        "    image = load_img(filename, target_size=(299,299))\n",
        "    # convert image pixels to numpy array \n",
        "    image = img_to_array(image)\n",
        "    # reshape data for model, adding one more dimension\n",
        "    image = image.reshape((1, image.shape[0], image.shape[1], image.shape[2]))\n",
        "    # prepare image for CNN. Normalizes image array to range [-1, 1], matching format of images used to train InceptionV3\n",
        "    image = preprocess_input(image)\n",
        "    # get features\n",
        "    img_features = features_model.predict(image, verbose=0)\n",
        "    # get image id\n",
        "    image_id = name.split('.')[0]\n",
        "    # store feature\n",
        "    all_features_dict[image_id] = img_features\n",
        "    # print('>%s' % name)\n",
        "  return all_features_dict\n",
        "\n",
        "# extract features from all Flicker images\n",
        "flicker_folder = 'drive/My Drive/ImageCaptioningProject/Flickr8k_Dataset'\n",
        "all_features_dict = extract_training_image_features(flicker_folder)\n",
        "print('Number of extracted features: %d' % len(all_features_dict))\n",
        "# save to file\n",
        "pickle.dump(all_features_dict, open('/content/drive/My Drive/ImageCaptioningProject/features.pkl', 'wb'))"
      ],
      "execution_count": null,
      "outputs": [
        {
          "output_type": "stream",
          "text": [
            "Downloading data from https://storage.googleapis.com/tensorflow/keras-applications/inception_v3/inception_v3_weights_tf_dim_ordering_tf_kernels.h5\n",
            "96116736/96112376 [==============================] - 1s 0us/step\n",
            "Extracted Features: 8091\n"
          ],
          "name": "stdout"
        }
      ]
    }
  ]
}